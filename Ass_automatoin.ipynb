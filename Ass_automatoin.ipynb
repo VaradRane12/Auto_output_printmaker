{
 "cells": [
  {
   "cell_type": "code",
   "execution_count": 1,
   "id": "099b2349-6f29-426e-9cd3-b2b7bd8c351d",
   "metadata": {},
   "outputs": [
    {
     "ename": "ModuleNotFoundError",
     "evalue": "No module named 'docx'",
     "output_type": "error",
     "traceback": [
      "\u001b[1;31m---------------------------------------------------------------------------\u001b[0m",
      "\u001b[1;31mModuleNotFoundError\u001b[0m                       Traceback (most recent call last)",
      "Cell \u001b[1;32mIn[1], line 1\u001b[0m\n\u001b[1;32m----> 1\u001b[0m \u001b[38;5;28;01mimport\u001b[39;00m \u001b[38;5;21;01mdocx\u001b[39;00m\n",
      "\u001b[1;31mModuleNotFoundError\u001b[0m: No module named 'docx'"
     ]
    }
   ],
   "source": [
    "import docx"
   ]
  },
  {
   "cell_type": "code",
   "execution_count": 3,
   "id": "a5d6cf9b-63a0-4578-88f7-acad0bb220b7",
   "metadata": {},
   "outputs": [
    {
     "name": "stdout",
     "output_type": "stream",
     "text": [
      "Collecting python-docx\n",
      "  Downloading python_docx-1.1.2-py3-none-any.whl.metadata (2.0 kB)\n",
      "Requirement already satisfied: lxml>=3.1.0 in c:\\users\\iot-18\\anaconda3\\lib\\site-packages (from python-docx) (5.2.1)\n",
      "Requirement already satisfied: typing-extensions>=4.9.0 in c:\\users\\iot-18\\anaconda3\\lib\\site-packages (from python-docx) (4.11.0)\n",
      "Downloading python_docx-1.1.2-py3-none-any.whl (244 kB)\n",
      "   ---------------------------------------- 0.0/244.3 kB ? eta -:--:--\n",
      "   ------------------------------- -------- 194.6/244.3 kB 5.8 MB/s eta 0:00:01\n",
      "   -------------------------------------- - 235.5/244.3 kB 4.8 MB/s eta 0:00:01\n",
      "   ---------------------------------------- 244.3/244.3 kB 1.9 MB/s eta 0:00:00\n",
      "Installing collected packages: python-docx\n",
      "Successfully installed python-docx-1.1.2\n"
     ]
    }
   ],
   "source": [
    "!pip install python-docx"
   ]
  },
  {
   "cell_type": "code",
   "execution_count": 2,
   "id": "d0e94d9f-4714-44df-b0e9-8ac854c63f20",
   "metadata": {},
   "outputs": [
    {
     "name": "stdout",
     "output_type": "stream",
     "text": [
      "Collecting docx2pdf\n",
      "  Downloading docx2pdf-0.1.8-py3-none-any.whl.metadata (3.3 kB)\n",
      "Requirement already satisfied: pywin32>=227 in d:\\anaconda3\\lib\\site-packages (from docx2pdf) (305.1)\n",
      "Requirement already satisfied: tqdm>=4.41.0 in d:\\anaconda3\\lib\\site-packages (from docx2pdf) (4.65.0)\n",
      "Requirement already satisfied: colorama in d:\\anaconda3\\lib\\site-packages (from tqdm>=4.41.0->docx2pdf) (0.4.6)\n",
      "Downloading docx2pdf-0.1.8-py3-none-any.whl (6.7 kB)\n",
      "Installing collected packages: docx2pdf\n",
      "Successfully installed docx2pdf-0.1.8\n"
     ]
    }
   ],
   "source": [
    "!pip install docx2pdf"
   ]
  },
  {
   "cell_type": "code",
   "execution_count": 8,
   "id": "ba9c47cb-afa4-4bd5-aaef-273851002fde",
   "metadata": {},
   "outputs": [],
   "source": [
    "import docx\n",
    "from docx2pdf import convert\n",
    "import os"
   ]
  },
  {
   "cell_type": "code",
   "execution_count": 15,
   "id": "e704d1cf-de06-4903-895f-3d1e990e5c59",
   "metadata": {},
   "outputs": [
    {
     "data": {
      "application/vnd.jupyter.widget-view+json": {
       "model_id": "24da20363acb4335a980334cd14554ff",
       "version_major": 2,
       "version_minor": 0
      },
      "text/plain": [
       "  0%|          | 0/1 [00:00<?, ?it/s]"
      ]
     },
     "metadata": {},
     "output_type": "display_data"
    }
   ],
   "source": [
    "document = docx.Document()\n",
    "doc_para = document.add_paragraph()\n",
    "doc_para.add_run(\"Name: Varad Rane\").bold = True\n",
    "document.add_paragraph().add_run(\"PRN: 123B1F117\").bold = True\n",
    "document.add_paragraph()\n",
    "document.add_paragraph().add_run(\"Code: \").bold = True\n",
    "f = open(\"code.txt\", \"r\")\n",
    "for i in f:\n",
    "    \n",
    "    document.add_paragraph(i)\n",
    "document.add_paragraph().add_run(\"Output:\").bold = True\n",
    "\n",
    "path = r\"C:\\Users\\Asus\\Documents\\GitHub\\Auto_output_printmaker\\Output\"\n",
    "\n",
    "for filename in os.listdir(path):\n",
    "    document.add_picture(path+\"/\"+filename)\n",
    "document.save(\"Ass.docx\")\n",
    "convert(\"Ass.docx\")\n",
    "# document = docx.Document(\"dark-and-stormy.docx\")\n",
    "# document.paragraphs[0].text"
   ]
  },
  {
   "cell_type": "code",
   "execution_count": null,
   "id": "7d8fc57d-bdd4-43f3-ad1e-515afc817765",
   "metadata": {},
   "outputs": [],
   "source": [
    "queue()."
   ]
  }
 ],
 "metadata": {
  "kernelspec": {
   "display_name": "Python 3 (ipykernel)",
   "language": "python",
   "name": "python3"
  },
  "language_info": {
   "codemirror_mode": {
    "name": "ipython",
    "version": 3
   },
   "file_extension": ".py",
   "mimetype": "text/x-python",
   "name": "python",
   "nbconvert_exporter": "python",
   "pygments_lexer": "ipython3",
   "version": "3.11.7"
  }
 },
 "nbformat": 4,
 "nbformat_minor": 5
}
