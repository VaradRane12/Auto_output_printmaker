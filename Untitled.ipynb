{
 "cells": [
  {
   "cell_type": "code",
   "execution_count": 1,
   "id": "8a8b6df2",
   "metadata": {},
   "outputs": [
    {
     "ename": "ModuleNotFoundError",
     "evalue": "No module named 'docx'",
     "output_type": "error",
     "traceback": [
      "\u001b[1;31m---------------------------------------------------------------------------\u001b[0m",
      "\u001b[1;31mModuleNotFoundError\u001b[0m                       Traceback (most recent call last)",
      "Cell \u001b[1;32mIn[1], line 1\u001b[0m\n\u001b[1;32m----> 1\u001b[0m \u001b[38;5;28;01mimport\u001b[39;00m \u001b[38;5;21;01mdocx\u001b[39;00m\n",
      "\u001b[1;31mModuleNotFoundError\u001b[0m: No module named 'docx'"
     ]
    }
   ],
   "source": [
    "import docx"
   ]
  },
  {
   "cell_type": "code",
   "execution_count": 2,
   "id": "715041a8",
   "metadata": {},
   "outputs": [
    {
     "name": "stdout",
     "output_type": "stream",
     "text": [
      "Collecting docx\n",
      "  Downloading docx-0.2.4.tar.gz (54 kB)\n",
      "     ---------------------------------------- 0.0/54.9 kB ? eta -:--:--\n",
      "     ------------------------------------- -- 51.2/54.9 kB 1.3 MB/s eta 0:00:01\n",
      "     -------------------------------------- 54.9/54.9 kB 709.3 kB/s eta 0:00:00\n",
      "  Preparing metadata (setup.py): started\n",
      "  Preparing metadata (setup.py): finished with status 'done'\n",
      "Requirement already satisfied: lxml in d:\\anaconda3\\lib\\site-packages (from docx) (4.9.3)\n",
      "Requirement already satisfied: Pillow>=2.0 in d:\\anaconda3\\lib\\site-packages (from docx) (10.2.0)\n",
      "Building wheels for collected packages: docx\n",
      "  Building wheel for docx (setup.py): started\n",
      "  Building wheel for docx (setup.py): finished with status 'done'\n",
      "  Created wheel for docx: filename=docx-0.2.4-py3-none-any.whl size=53902 sha256=3cfcecde65a29c31e10c2990118a10c32b3e45e3ab4afc5dcf03e2fd3aa1860f\n",
      "  Stored in directory: c:\\users\\asus\\appdata\\local\\pip\\cache\\wheels\\c1\\3e\\c3\\e81c11effd0be5658a035947c66792dd993bcff317eae0e1ed\n",
      "Successfully built docx\n",
      "Installing collected packages: docx\n",
      "Successfully installed docx-0.2.4\n"
     ]
    }
   ],
   "source": [
    "!pip install docx\n"
   ]
  },
  {
   "cell_type": "code",
   "execution_count": 5,
   "id": "81f5369e",
   "metadata": {},
   "outputs": [
    {
     "name": "stdout",
     "output_type": "stream",
     "text": [
      "Collecting python-docx\n",
      "  Downloading python_docx-1.1.2-py3-none-any.whl.metadata (2.0 kB)\n",
      "Requirement already satisfied: lxml>=3.1.0 in d:\\anaconda3\\lib\\site-packages (from python-docx) (4.9.3)\n",
      "Requirement already satisfied: typing-extensions>=4.9.0 in d:\\anaconda3\\lib\\site-packages (from python-docx) (4.9.0)\n",
      "Downloading python_docx-1.1.2-py3-none-any.whl (244 kB)\n",
      "   ---------------------------------------- 0.0/244.3 kB ? eta -:--:--\n",
      "   - -------------------------------------- 10.2/244.3 kB ? eta -:--:--\n",
      "   ---- ---------------------------------- 30.7/244.3 kB 262.6 kB/s eta 0:00:01\n",
      "   ------ -------------------------------- 41.0/244.3 kB 245.8 kB/s eta 0:00:01\n",
      "   ------------------- ------------------ 122.9/244.3 kB 602.4 kB/s eta 0:00:01\n",
      "   -------------------------------------- - 235.5/244.3 kB 1.0 MB/s eta 0:00:01\n",
      "   -------------------------------------- - 235.5/244.3 kB 1.0 MB/s eta 0:00:01\n",
      "   -------------------------------------- 244.3/244.3 kB 713.6 kB/s eta 0:00:00\n",
      "Installing collected packages: python-docx\n",
      "Successfully installed python-docx-1.1.2\n"
     ]
    }
   ],
   "source": [
    "!pip install python-docx\n"
   ]
  },
  {
   "cell_type": "code",
   "execution_count": 6,
   "id": "0b898518",
   "metadata": {},
   "outputs": [],
   "source": [
    "import docx"
   ]
  },
  {
   "cell_type": "code",
   "execution_count": 7,
   "id": "5652d457",
   "metadata": {},
   "outputs": [],
   "source": [
    "doc = docx.Document()"
   ]
  },
  {
   "cell_type": "code",
   "execution_count": 10,
   "id": "3619c34b",
   "metadata": {},
   "outputs": [],
   "source": [
    "doc_para = doc.add_paragraph()\n",
    "doc_para.add_run(\"Name: Varad Rane\").bold = True\n",
    "doc_para.add_run(\"PRN: 123B1F117\").bold = True"
   ]
  },
  {
   "cell_type": "code",
   "execution_count": 23,
   "id": "dddba72f",
   "metadata": {},
   "outputs": [],
   "source": [
    "doc.save(\"ass1.docx\")"
   ]
  },
  {
   "cell_type": "code",
   "execution_count": null,
   "id": "19e9082f",
   "metadata": {},
   "outputs": [],
   "source": []
  }
 ],
 "metadata": {
  "kernelspec": {
   "display_name": "Python 3 (ipykernel)",
   "language": "python",
   "name": "python3"
  },
  "language_info": {
   "codemirror_mode": {
    "name": "ipython",
    "version": 3
   },
   "file_extension": ".py",
   "mimetype": "text/x-python",
   "name": "python",
   "nbconvert_exporter": "python",
   "pygments_lexer": "ipython3",
   "version": "3.11.7"
  }
 },
 "nbformat": 4,
 "nbformat_minor": 5
}
